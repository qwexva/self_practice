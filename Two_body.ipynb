{
 "cells": [
  {
   "cell_type": "markdown",
   "metadata": {},
   "source": [
    "# A test particle (with negligible mass) approaches a planet of mass M from infinity withspeed υ∞ and an impact parameter b"
   ]
  },
  {
   "cell_type": "markdown",
   "metadata": {},
   "source": [
    "1: Calculate the particle’s specific energy E (kinetic + potential energy per mass) and the magnitude h of the specific angular momentum ~h = ~r × ~υ as measured from the center of the planet. (Remember that the cross-product just cares about the orthogonal components of the vectors.) Your answers should only depend on υ∞ and b."
   ]
  },
  {
   "cell_type": "markdown",
   "metadata": {},
   "source": [
    "$$ E = \\frac{1}{2}  m_{1} v^2 + \\frac{G  m_{1}  M}{r} $$"
   ]
  },
  {
   "cell_type": "markdown",
   "metadata": {},
   "source": [
    "$$ \\frac{E}{m_{1}} = E_{m} = \\frac{1}{2} v^2 + \\frac{G M}{r} $$ This is the energy per mass."
   ]
  },
  {
   "cell_type": "markdown",
   "metadata": {},
   "source": [
    "$$ r = r_{\\infty} $$ $$ v = v_{\\infty} $$ This makes the second term go to zero and we are left with $$ \\mathbf{E_{m} = \\frac{1}{2} v_{\\infty}^2 }$$"
   ]
  },
  {
   "cell_type": "markdown",
   "metadata": {},
   "source": [
    "For the angular momentum h = r x v use the determinant."
   ]
  },
  {
   "cell_type": "markdown",
   "metadata": {},
   "source": [
    "$$ \\begin{matrix}\n",
    "    b & \\infty \\\\\n",
    "    0 & v_{\\infty}\n",
    "    \\end{matrix} $$"
   ]
  },
  {
   "cell_type": "markdown",
   "metadata": {},
   "source": [
    "$$ h = b v_{\\infty} - 0 $$"
   ]
  },
  {
   "cell_type": "markdown",
   "metadata": {},
   "source": [
    "$$ \\mathbf{ h = b v_{\\infty} }$$"
   ]
  },
  {
   "cell_type": "markdown",
   "metadata": {},
   "source": [
    "2: Using your expressions for E and h, calculate the particle’s eccentricity e, semi-major\n",
    "axis a, pericenter distance to the planet r0, and pericenter longitude ω for its hyperbolic\n",
    "orbit. Express your answers in terms of the escape velocity v0 at the distance r0. Given the following equations.\n",
    "$$ \\mu = G M $$\n",
    "$$ \\frac{h^2}{\\mu} = a (e^2 - 1) $$\n",
    "$$ r(\\theta) = \\frac{\\frac{h^2}{\\mu}}{1 + e cos(\\theta - \\omega)} $$\n",
    "$$ E(r) = \\frac{1}{2} v(r)^2 - \\frac{\\mu}{r} $$"
   ]
  },
  {
   "cell_type": "markdown",
   "metadata": {},
   "source": [
    "where r(θ) is the radial distance of the particle from the planet at angle θ, E(r) the\n",
    "specific energy at distance r, and υ(r) the orbital velocity at distance r. Show that\n",
    "e = 1 + 2\n",
    "υ∞/υ0\n",
    "\u00012\n",
    ". What happens to r0 as υ∞ → ∞, and why?\n"
   ]
  },
  {
   "cell_type": "markdown",
   "metadata": {},
   "source": [
    "h = constant and E = constant, with h at r0 given by $$h = r_{0} v $$"
   ]
  },
  {
   "cell_type": "markdown",
   "metadata": {},
   "source": [
    "Using the angular momentum from part 1, we can obtain a value for v\n",
    "$$ b v_{\\infty} = r_{0} v $$\n",
    "$$v = \\frac{b v_{\\infty}}{r_{0}}$$"
   ]
  },
  {
   "cell_type": "markdown",
   "metadata": {},
   "source": [
    "Now using conservation of energy and knowing that when the particle has escape velocity v0, the energy is zero, we get the following two equations for energy.\n",
    "$$ \\frac{1}{2} v^2 - \\frac{\\mu}{r_{0}} = \\frac{1}{2} v_{\\infty}^2 $$\n",
    "$$ \\frac{1}{2} v_{0}^2 - \\frac{\\mu}{r_{0}} = 0 $$"
   ]
  },
  {
   "cell_type": "markdown",
   "metadata": {},
   "source": [
    "We can now solve for r0 in terms of the two velocities.\n",
    "$$ \\frac{1}{2} v_{0}^2 = \\frac{\\mu}{r_{0}}$$\n",
    "$$ v^2 = \\frac{b^2 v_{\\infty}^2}{r_{0}^2} $$\n",
    "Use these values in place of the values in the first energy equation and rearrange.\n",
    "$$ \\frac{1}{2} \\frac{b^2 v_{\\infty}^2}{r_{0}^2} - \\frac{1}{2} v_{0}^2 = \\frac{1}{2} v_{\\infty}^2 $$\n",
    "$$ \\frac{b^2 v_{\\infty}^2}{r_{0}^2} = v_{\\infty}^2 + v_{0}^2 $$\n",
    "$$ b^2 v_{\\infty}^2 = r_{0}^2 (v_{\\infty}^2 + v_{0}^2) $$\n",
    "$$ \\mathbf{r_{0} = \\frac{b v_{\\infty}}{\\sqrt{v_{\\infty}^2 + v_{0}^2}} }$$"
   ]
  },
  {
   "cell_type": "markdown",
   "metadata": {},
   "source": [
    "Now the eccentricity can be solved for using the face that at r0, theta will equal omega, allowing a simplification of the third given equation.\n",
    "$$ r_{0} = \\frac{h^2}{\\mu} \\frac{1}{1+ e} $$"
   ]
  },
  {
   "cell_type": "markdown",
   "metadata": {},
   "source": [
    "Using the second given equation and substituting in\n",
    "$$ r_{0} = \\frac{a(e^2 - 1)}{1 + e} = a(e - 1) $$\n",
    "$$ a = \\frac{r_{0}}{e - 1} $$"
   ]
  },
  {
   "cell_type": "markdown",
   "metadata": {},
   "source": [
    "Rearranging the second equation in terms of a and substituting in values for mu and h\n",
    "$$ a = \\frac{h^2}{\\mu} \\frac{1}{e^2 - 1} $$\n",
    "$$ h^2 = b^2 v_{\\infty}^2 $$\n",
    "$$ \\mu = \\frac{1}{2} v_{0}^2 r_{0} $$\n",
    "$$ \\frac{r_{0}}{e-1} = \\frac{b^2 v_{\\infty}^2}{\\frac{1}{2} v_{0}^2 r_{0}} \\frac{1}{e^2-1} $$"
   ]
  },
  {
   "cell_type": "markdown",
   "metadata": {},
   "source": [
    "From here it is possible to solve for e, keeping in mind the value of r0 that we solved for.\n",
    "$$ \\frac{e^2-1}{e-1} = \\frac{2 b^2 v_{\\infty}^2}{v_{0}^2 r_{0}^2} $$\n",
    "$$ r_{0}^2 = \\frac{b^2 v_{\\infty}^2}{v_{0}^2 + v_{\\infty}^2} $$\n",
    "$$ e+1 = \\frac{2 b^2 v_{\\infty}^2}{v_{0}^2} \\frac{v_{0}^2 + v_{\\infty}^2}{b^2 v_{\\infty}^2} $$"
   ]
  },
  {
   "cell_type": "markdown",
   "metadata": {},
   "source": [
    "$$ e+1 = \\frac{2v_{0}^2}{v_{0}^2} + \\frac{2 v_{\\infty}^2}{v_{0}^2} $$\n",
    "$$ \\mathbf{e = 1 + 2 (\\frac{v_{\\infty}}{v_{0}})^2}$$"
   ]
  },
  {
   "cell_type": "markdown",
   "metadata": {},
   "source": [
    "This is the value of eccentricity as specified by the problem.\n",
    "Next it is trivial to find the value for a, the semi major axis. Using the following two known relationships\n",
    "$$ a = \\frac{r_{0}}{e-1} $$\n",
    "$$ e - 1 = \\frac{2 v_{\\infty}^2}{v_{0}^2} $$"
   ]
  },
  {
   "cell_type": "markdown",
   "metadata": {},
   "source": [
    "and our established value for r0, it is possible to substitute these values in and obtain the semi major axis in terms of b and the two velocities.\n",
    "$$ a = \\frac{b v_{\\infty}}{\\sqrt{v_{\\infty}^2 + v_{0}^2}} \\frac{v_{0}^2}{2 v_{\\infty}^2} $$\n",
    "$$ \\mathbf{a = \\frac{b v_{0}^2}{2 v_{\\infty} \\sqrt{v_{\\infty}^2 + v_{0}^2}} }$$"
   ]
  },
  {
   "cell_type": "markdown",
   "metadata": {},
   "source": [
    "Now, finally we can solve for omega, the deflection angle. Going back to the original given equations, we focus on the bottom part of the equation for r. We know that when theta equals 0, r will approach infinity. In order for this to happen, the bottom portion must equal 0. So we have\n",
    "$$ 1 + e cos(-\\omega) = 0 $$"
   ]
  },
  {
   "cell_type": "markdown",
   "metadata": {},
   "source": [
    "Using the identity that cos(-x) = cos(x), we rewrite the equation to isolate omega.\n",
    "$$ ecos(\\omega) = -1 $$\n",
    "$$ \\omega = cos^{-1} (-\\frac{1}{e}) $$"
   ]
  },
  {
   "cell_type": "markdown",
   "metadata": {},
   "source": [
    "Now we substitute in our value for e, for simplicities sake, we will rewrite that equation as\n",
    "$$ \\frac{1}{e} = \\frac{v_{0}^2}{v_{0}^2 + 2 v_{\\infty}^2} $$"
   ]
  },
  {
   "cell_type": "markdown",
   "metadata": {},
   "source": [
    "Plugging that in gives us the final value for the deflection angle\n",
    "$$ \\mathbf{ \\omega = cos^{-1}(\\frac{-v_{0}^2}{v_{0}^2 + 2 v_{\\infty}^2}) }$$"
   ]
  },
  {
   "cell_type": "markdown",
   "metadata": {},
   "source": [
    "3: If the particle were totally undeflected by the planet’s gravity, θ would go from 0 to π,\n",
    "as the particle continued in a straight line (as shown in the figure). Instead, the planet’s\n",
    "gravity will deflect the particle, and limr→∞ θ = θf\n",
    ". Measuring θf relative to υˆ∞ (i.e.,\n",
    "relative to the undeflected trajectory), show that sin(θf/2) = e\n",
    "−1\n",
    ". Hint: For r(θ) → ∞,\n",
    "what value must 1 + e cos(θ − ω) approach?"
   ]
  },
  {
   "cell_type": "markdown",
   "metadata": {},
   "source": [
    "As r approaches infinity, 1 + e cos(θ − ω) must approach zero. Knowing that and using the trig identity cos(α ± β) = cos(α) cos(β) ∓ sin(α) sin(β) gives us\n",
    "$$ 1 + e(cos(\\theta)cos(\\omega) + sin(\\theta)sin(\\omega)) = 0 $$"
   ]
  },
  {
   "cell_type": "markdown",
   "metadata": {},
   "source": [
    "We also know that\n",
    "$$ cos(\\omega) = -\\frac{1}{e} $$\n",
    "$$ sin(\\omega) = sin(cos^{-1}(-\\frac{1}{e}))=\\frac{1}{e} \\sqrt{e^2 - 1} $$"
   ]
  },
  {
   "cell_type": "markdown",
   "metadata": {},
   "source": [
    "Plugging these values in we are left with\n",
    "$$ 1 + e(-\\frac{1}{e} cos(\\theta) + sin(\\theta) \\frac{1}{e} \\sqrt{e^2 - 1}) = 0 $$\n",
    "$$ 1 - cos(\\theta) + sin(\\theta) \\sqrt{e^2 - 1} = 0 $$"
   ]
  },
  {
   "cell_type": "markdown",
   "metadata": {},
   "source": [
    "Now if we use the identity 1 − cos(α) = 2 sin2(α/2), substitute that in and square both sides\n",
    "$$ 2 sin^2(\\frac{\\theta}{2}) = - sin(\\theta) \\sqrt{e^2 - 1} $$\n",
    "$$ 4 sin^2(\\frac{\\theta}{2}) sin^2(\\frac{\\theta}{2}) = sin^2(\\theta) (e^2 - 1) $$"
   ]
  },
  {
   "cell_type": "markdown",
   "metadata": {},
   "source": [
    "We left the right hand side separated so we can take advantage of this identity\n",
    "$$ 4 sin^2(\\frac{\\theta}{2}) = \\frac{sin^2(\\theta)}{cos^2(\\frac{\\theta}{2})} $$"
   ]
  },
  {
   "cell_type": "markdown",
   "metadata": {},
   "source": [
    "Plugging this in it is possible to solve out for the inverse of the eccentricity.\n",
    "$$ sin^2(\\frac{\\theta}{2}) \\frac{sin^2(\\theta)}{cos^2(\\frac{\\theta}{2})} = sin^2(\\theta) (e^2 - 1) $$\n",
    "$$ sin^2(\\frac{\\theta}{2}) = cos^2(\\frac{\\theta}{2}) e^2 - cos^2(\\frac{\\theta}{2}) $$\n",
    "$$ sin^2(\\frac{\\theta}{2}) + cos^2(\\frac{\\theta}{2}) = sin^2(\\frac{\\theta}{2})e^2 $$\n",
    "$$ \\frac{1}{e^2} = cos^2(\\frac{\\theta}{2}) $$\n",
    "$$ \\frac{1}{e} = cos(\\frac{\\theta}{2}) $$"
   ]
  },
  {
   "cell_type": "markdown",
   "metadata": {},
   "source": [
    "Now we must account for the fact that the angle theta that we have been using is not quite the same as the angle that the final answer needs. So we must convert the angle to get our complete answer.\n",
    "$$ \\theta = \\theta_{f} - \\pi $$\n",
    "$$ cos(\\frac{\\theta_{f} - \\pi}{2}) = sin(\\frac{\\theta_{f}}{2}) $$\n",
    "$$ \\mathbf{e^{-1} = sin(\\frac{\\theta_{f}}{2})} $$"
   ]
  },
  {
   "cell_type": "markdown",
   "metadata": {
    "collapsed": true
   },
   "source": [
    "#Additional Problems"
   ]
  },
  {
   "cell_type": "markdown",
   "metadata": {},
   "source": [
    "Now that we have all these equations we can use them to solve for specific cases, such as finding the maximum deflection of a comet skimming past Jupiter. The maximum deflection occurs when r0 approaches the radius of the large mass M. We will use the following equations.\n",
    "$$ v_{0} = \\sqrt{\\frac{2 G M}{R}} $$\n",
    "$$ e = 1 + 2 (\\frac{v_{\\infty}}{v_{0}})^2 $$\n",
    "$$ \\theta = 2 sin^{-1}(e^{-1}) $$"
   ]
  },
  {
   "cell_type": "markdown",
   "metadata": {},
   "source": [
    "$$ \\textbf{ i) Maximum deflection past Jupiter with an initial velocity of 10 km/s } $$"
   ]
  },
  {
   "cell_type": "code",
   "execution_count": 47,
   "metadata": {
    "collapsed": true
   },
   "outputs": [],
   "source": [
    "vinf_jup = 10000\n",
    "R_jup = 71398000\n",
    "M_jup = 1898.6 * 10**24\n",
    "G = 6.67 * 10**-11"
   ]
  },
  {
   "cell_type": "code",
   "execution_count": 49,
   "metadata": {
    "collapsed": false
   },
   "outputs": [
    {
     "name": "stdout",
     "output_type": "stream",
     "text": [
      "59559.5804474 m/s\n"
     ]
    }
   ],
   "source": [
    "v0_jup = math.sqrt(2*G*M_jup/R_jup)\n",
    "print str(v0_jup) + \" m/s\""
   ]
  },
  {
   "cell_type": "code",
   "execution_count": 51,
   "metadata": {
    "collapsed": false
   },
   "outputs": [
    {
     "name": "stdout",
     "output_type": "stream",
     "text": [
      "1.05638021609\n"
     ]
    }
   ],
   "source": [
    "e_jup = 1 + 2 * (vinf_jup/v0_jup)**2\n",
    "print e_jup"
   ]
  },
  {
   "cell_type": "code",
   "execution_count": 52,
   "metadata": {
    "collapsed": false
   },
   "outputs": [
    {
     "name": "stdout",
     "output_type": "stream",
     "text": [
      "2.48522226416 radians\n"
     ]
    }
   ],
   "source": [
    "theta_jup = 2* math.asin(1/e_jup)\n",
    "print str(theta_jup) + \" radians\""
   ]
  },
  {
   "cell_type": "code",
   "execution_count": 53,
   "metadata": {
    "collapsed": false
   },
   "outputs": [
    {
     "name": "stdout",
     "output_type": "stream",
     "text": [
      "The maximum deflection of a comet skimming Jupiter is 5.62681491775 radians.\n"
     ]
    }
   ],
   "source": [
    "thetamax_jup = math.pi + theta_jup\n",
    "print \"The maximum deflection of a comet skimming Jupiter is \" + str(thetamax_jup) + \" radians.\""
   ]
  },
  {
   "cell_type": "markdown",
   "metadata": {},
   "source": [
    "$$ \\textbf{ ii) Maximum deflection past Titan with and initial velocity of 5 km/s} $$"
   ]
  },
  {
   "cell_type": "code",
   "execution_count": 54,
   "metadata": {
    "collapsed": true
   },
   "outputs": [],
   "source": [
    "vinf_tit = 5000\n",
    "R_tit = 2575000\n",
    "M_tit = 1345.5 * 10**20\n",
    "G = 6.67 * 10**-11"
   ]
  },
  {
   "cell_type": "code",
   "execution_count": 55,
   "metadata": {
    "collapsed": false
   },
   "outputs": [
    {
     "name": "stdout",
     "output_type": "stream",
     "text": [
      "2640.16548466 m/s\n"
     ]
    }
   ],
   "source": [
    "v0_tit = math.sqrt(2*G*M_tit/R_tit)\n",
    "print str(v0_tit) + \" m/s\""
   ]
  },
  {
   "cell_type": "code",
   "execution_count": 56,
   "metadata": {
    "collapsed": false
   },
   "outputs": [
    {
     "name": "stdout",
     "output_type": "stream",
     "text": [
      "8.17311355471\n"
     ]
    }
   ],
   "source": [
    "e_tit = 1 + 2 * (vinf_tit/v0_tit)**2\n",
    "print e_tit"
   ]
  },
  {
   "cell_type": "code",
   "execution_count": 57,
   "metadata": {
    "collapsed": false
   },
   "outputs": [
    {
     "name": "stdout",
     "output_type": "stream",
     "text": [
      "0.245319478414 radians\n"
     ]
    }
   ],
   "source": [
    "theta_tit = 2*math.asin(1/e_tit)\n",
    "print str(theta_tit) + \" radians\""
   ]
  },
  {
   "cell_type": "code",
   "execution_count": 58,
   "metadata": {
    "collapsed": false
   },
   "outputs": [
    {
     "name": "stdout",
     "output_type": "stream",
     "text": [
      "The maximum deflection of a comet skimming Titan is 3.386912132 radians.\n"
     ]
    }
   ],
   "source": [
    "thetamax_tit = math.pi + theta_tit\n",
    "print \"The maximum deflection of a comet skimming Titan is \" +str(thetamax_tit) + \" radians.\""
   ]
  },
  {
   "cell_type": "code",
   "execution_count": null,
   "metadata": {
    "collapsed": true
   },
   "outputs": [],
   "source": []
  }
 ],
 "metadata": {
  "kernelspec": {
   "display_name": "Python 2",
   "language": "python",
   "name": "python2"
  },
  "language_info": {
   "codemirror_mode": {
    "name": "ipython",
    "version": 2
   },
   "file_extension": ".py",
   "mimetype": "text/x-python",
   "name": "python",
   "nbconvert_exporter": "python",
   "pygments_lexer": "ipython2",
   "version": "2.7.8"
  }
 },
 "nbformat": 4,
 "nbformat_minor": 0
}
